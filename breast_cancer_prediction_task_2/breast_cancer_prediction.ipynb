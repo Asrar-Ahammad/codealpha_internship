{
  "nbformat": 4,
  "nbformat_minor": 0,
  "metadata": {
    "colab": {
      "provenance": []
    },
    "kernelspec": {
      "name": "ir",
      "display_name": "R"
    },
    "language_info": {
      "name": "R"
    }
  },
  "cells": [
    {
      "cell_type": "code",
      "execution_count": 1,
      "metadata": {
        "colab": {
          "base_uri": "https://localhost:8080/"
        },
        "id": "8StTVwoljZPd",
        "outputId": "a6b25cc5-bae6-4b14-c301-57f7d03f20d7"
      },
      "outputs": [
        {
          "output_type": "stream",
          "name": "stderr",
          "text": [
            "Installing package into ‘/usr/local/lib/R/site-library’\n",
            "(as ‘lib’ is unspecified)\n",
            "\n",
            "also installing the dependencies ‘gtools’, ‘gdata’\n",
            "\n",
            "\n",
            "\n",
            "Attaching package: ‘dplyr’\n",
            "\n",
            "\n",
            "The following objects are masked from ‘package:stats’:\n",
            "\n",
            "    filter, lag\n",
            "\n",
            "\n",
            "The following objects are masked from ‘package:base’:\n",
            "\n",
            "    intersect, setdiff, setequal, union\n",
            "\n",
            "\n"
          ]
        }
      ],
      "source": [
        "## Loading Library\n",
        "library(readr)\n",
        "library(class)\n",
        "install.packages('gmodels')\n",
        "library(gmodels)\n",
        "library(dplyr)"
      ]
    },
    {
      "cell_type": "code",
      "source": [
        "# Load the breast cancer dataset\n",
        "install.packages('mlbench')\n",
        "data(\"BreastCancer\", package = \"mlbench\")\n",
        "\n",
        "# Assign the dataset to a variable\n",
        "bc_data <- BreastCancer\n",
        "head(bc_data)"
      ],
      "metadata": {
        "id": "nqH_Jx2VjkQ-",
        "colab": {
          "base_uri": "https://localhost:8080/",
          "height": 340
        },
        "outputId": "67dfddec-b6ed-415a-ab9e-48f38e5d887b"
      },
      "execution_count": 2,
      "outputs": [
        {
          "output_type": "stream",
          "name": "stderr",
          "text": [
            "Installing package into ‘/usr/local/lib/R/site-library’\n",
            "(as ‘lib’ is unspecified)\n",
            "\n"
          ]
        },
        {
          "output_type": "display_data",
          "data": {
            "text/html": [
              "<table class=\"dataframe\">\n",
              "<caption>A data.frame: 6 × 11</caption>\n",
              "<thead>\n",
              "\t<tr><th></th><th scope=col>Id</th><th scope=col>Cl.thickness</th><th scope=col>Cell.size</th><th scope=col>Cell.shape</th><th scope=col>Marg.adhesion</th><th scope=col>Epith.c.size</th><th scope=col>Bare.nuclei</th><th scope=col>Bl.cromatin</th><th scope=col>Normal.nucleoli</th><th scope=col>Mitoses</th><th scope=col>Class</th></tr>\n",
              "\t<tr><th></th><th scope=col>&lt;chr&gt;</th><th scope=col>&lt;ord&gt;</th><th scope=col>&lt;ord&gt;</th><th scope=col>&lt;ord&gt;</th><th scope=col>&lt;ord&gt;</th><th scope=col>&lt;ord&gt;</th><th scope=col>&lt;fct&gt;</th><th scope=col>&lt;fct&gt;</th><th scope=col>&lt;fct&gt;</th><th scope=col>&lt;fct&gt;</th><th scope=col>&lt;fct&gt;</th></tr>\n",
              "</thead>\n",
              "<tbody>\n",
              "\t<tr><th scope=row>1</th><td>1000025</td><td>5</td><td>1 </td><td>1 </td><td>1</td><td>2</td><td>1 </td><td>3</td><td>1</td><td>1</td><td>benign   </td></tr>\n",
              "\t<tr><th scope=row>2</th><td>1002945</td><td>5</td><td>4 </td><td>4 </td><td>5</td><td>7</td><td>10</td><td>3</td><td>2</td><td>1</td><td>benign   </td></tr>\n",
              "\t<tr><th scope=row>3</th><td>1015425</td><td>3</td><td>1 </td><td>1 </td><td>1</td><td>2</td><td>2 </td><td>3</td><td>1</td><td>1</td><td>benign   </td></tr>\n",
              "\t<tr><th scope=row>4</th><td>1016277</td><td>6</td><td>8 </td><td>8 </td><td>1</td><td>3</td><td>4 </td><td>3</td><td>7</td><td>1</td><td>benign   </td></tr>\n",
              "\t<tr><th scope=row>5</th><td>1017023</td><td>4</td><td>1 </td><td>1 </td><td>3</td><td>2</td><td>1 </td><td>3</td><td>1</td><td>1</td><td>benign   </td></tr>\n",
              "\t<tr><th scope=row>6</th><td>1017122</td><td>8</td><td>10</td><td>10</td><td>8</td><td>7</td><td>10</td><td>9</td><td>7</td><td>1</td><td>malignant</td></tr>\n",
              "</tbody>\n",
              "</table>\n"
            ],
            "text/markdown": "\nA data.frame: 6 × 11\n\n| <!--/--> | Id &lt;chr&gt; | Cl.thickness &lt;ord&gt; | Cell.size &lt;ord&gt; | Cell.shape &lt;ord&gt; | Marg.adhesion &lt;ord&gt; | Epith.c.size &lt;ord&gt; | Bare.nuclei &lt;fct&gt; | Bl.cromatin &lt;fct&gt; | Normal.nucleoli &lt;fct&gt; | Mitoses &lt;fct&gt; | Class &lt;fct&gt; |\n|---|---|---|---|---|---|---|---|---|---|---|---|\n| 1 | 1000025 | 5 | 1  | 1  | 1 | 2 | 1  | 3 | 1 | 1 | benign    |\n| 2 | 1002945 | 5 | 4  | 4  | 5 | 7 | 10 | 3 | 2 | 1 | benign    |\n| 3 | 1015425 | 3 | 1  | 1  | 1 | 2 | 2  | 3 | 1 | 1 | benign    |\n| 4 | 1016277 | 6 | 8  | 8  | 1 | 3 | 4  | 3 | 7 | 1 | benign    |\n| 5 | 1017023 | 4 | 1  | 1  | 3 | 2 | 1  | 3 | 1 | 1 | benign    |\n| 6 | 1017122 | 8 | 10 | 10 | 8 | 7 | 10 | 9 | 7 | 1 | malignant |\n\n",
            "text/latex": "A data.frame: 6 × 11\n\\begin{tabular}{r|lllllllllll}\n  & Id & Cl.thickness & Cell.size & Cell.shape & Marg.adhesion & Epith.c.size & Bare.nuclei & Bl.cromatin & Normal.nucleoli & Mitoses & Class\\\\\n  & <chr> & <ord> & <ord> & <ord> & <ord> & <ord> & <fct> & <fct> & <fct> & <fct> & <fct>\\\\\n\\hline\n\t1 & 1000025 & 5 & 1  & 1  & 1 & 2 & 1  & 3 & 1 & 1 & benign   \\\\\n\t2 & 1002945 & 5 & 4  & 4  & 5 & 7 & 10 & 3 & 2 & 1 & benign   \\\\\n\t3 & 1015425 & 3 & 1  & 1  & 1 & 2 & 2  & 3 & 1 & 1 & benign   \\\\\n\t4 & 1016277 & 6 & 8  & 8  & 1 & 3 & 4  & 3 & 7 & 1 & benign   \\\\\n\t5 & 1017023 & 4 & 1  & 1  & 3 & 2 & 1  & 3 & 1 & 1 & benign   \\\\\n\t6 & 1017122 & 8 & 10 & 10 & 8 & 7 & 10 & 9 & 7 & 1 & malignant\\\\\n\\end{tabular}\n",
            "text/plain": [
              "  Id      Cl.thickness Cell.size Cell.shape Marg.adhesion Epith.c.size\n",
              "1 1000025 5            1         1          1             2           \n",
              "2 1002945 5            4         4          5             7           \n",
              "3 1015425 3            1         1          1             2           \n",
              "4 1016277 6            8         8          1             3           \n",
              "5 1017023 4            1         1          3             2           \n",
              "6 1017122 8            10        10         8             7           \n",
              "  Bare.nuclei Bl.cromatin Normal.nucleoli Mitoses Class    \n",
              "1 1           3           1               1       benign   \n",
              "2 10          3           2               1       benign   \n",
              "3 2           3           1               1       benign   \n",
              "4 4           3           7               1       benign   \n",
              "5 1           3           1               1       benign   \n",
              "6 10          9           7               1       malignant"
            ]
          },
          "metadata": {}
        }
      ]
    },
    {
      "cell_type": "code",
      "source": [
        "# Data Exploration\n",
        "table(bc_data$Class)\n",
        "round(prop.table(table(bc_data$Class)) * 100, digits = 1)\n",
        "\n",
        "sum(is.na(bc_data))\n",
        "bc_data_clean<-na.omit(bc_data)\n",
        "\n",
        "sum(is.na(bc_data_clean))\n",
        "\n",
        "summary(bc_data_clean)"
      ],
      "metadata": {
        "colab": {
          "base_uri": "https://localhost:8080/",
          "height": 588
        },
        "id": "7oO4GDzHrZJ-",
        "outputId": "2c6255c2-04f8-4ca3-e767-08e54a2caa19"
      },
      "execution_count": 3,
      "outputs": [
        {
          "output_type": "display_data",
          "data": {
            "text/plain": [
              "\n",
              "   benign malignant \n",
              "      458       241 "
            ]
          },
          "metadata": {}
        },
        {
          "output_type": "display_data",
          "data": {
            "text/plain": [
              "\n",
              "   benign malignant \n",
              "     65.5      34.5 "
            ]
          },
          "metadata": {}
        },
        {
          "output_type": "display_data",
          "data": {
            "text/html": [
              "16"
            ],
            "text/markdown": "16",
            "text/latex": "16",
            "text/plain": [
              "[1] 16"
            ]
          },
          "metadata": {}
        },
        {
          "output_type": "display_data",
          "data": {
            "text/html": [
              "0"
            ],
            "text/markdown": "0",
            "text/latex": "0",
            "text/plain": [
              "[1] 0"
            ]
          },
          "metadata": {}
        },
        {
          "output_type": "display_data",
          "data": {
            "text/plain": [
              "      Id             Cl.thickness   Cell.size     Cell.shape  Marg.adhesion\n",
              " Length:683         1      :139   1      :373   1      :346   1      :393  \n",
              " Class :character   5      :128   10     : 67   2      : 58   2      : 58  \n",
              " Mode  :character   3      :104   3      : 52   10     : 58   3      : 58  \n",
              "                    4      : 79   2      : 45   3      : 53   10     : 55  \n",
              "                    10     : 69   4      : 38   4      : 43   4      : 33  \n",
              "                    2      : 50   5      : 30   5      : 32   8      : 25  \n",
              "                    (Other):114   (Other): 78   (Other): 93   (Other): 61  \n",
              "  Epith.c.size  Bare.nuclei   Bl.cromatin  Normal.nucleoli    Mitoses   \n",
              " 2      :376   1      :402   3      :161   1      :432     1      :563  \n",
              " 3      : 71   10     :132   2      :160   10     : 60     2      : 35  \n",
              " 4      : 48   2      : 30   1      :150   3      : 42     3      : 33  \n",
              " 1      : 44   5      : 30   7      : 71   2      : 36     10     : 14  \n",
              " 6      : 40   3      : 28   4      : 39   8      : 23     4      : 12  \n",
              " 5      : 39   8      : 21   5      : 34   6      : 22     7      :  9  \n",
              " (Other): 65   (Other): 40   (Other): 68   (Other): 68     (Other): 17  \n",
              "       Class    \n",
              " benign   :444  \n",
              " malignant:239  \n",
              "                \n",
              "                \n",
              "                \n",
              "                \n",
              "                "
            ]
          },
          "metadata": {}
        }
      ]
    },
    {
      "cell_type": "code",
      "source": [
        "bc_data_clean<-select(bc_data_clean,-Id)\n",
        "colnames(bc_data_clean)[colnames(bc_data_clean) == \"Class\"] <- \"diagnosis\"\n",
        "head(bc_data_clean)"
      ],
      "metadata": {
        "colab": {
          "base_uri": "https://localhost:8080/",
          "height": 286
        },
        "id": "L9sa8iDJr994",
        "outputId": "9c61d6ee-9487-4367-a9bc-bf85bbd0771c"
      },
      "execution_count": 4,
      "outputs": [
        {
          "output_type": "display_data",
          "data": {
            "text/html": [
              "<table class=\"dataframe\">\n",
              "<caption>A data.frame: 6 × 10</caption>\n",
              "<thead>\n",
              "\t<tr><th></th><th scope=col>Cl.thickness</th><th scope=col>Cell.size</th><th scope=col>Cell.shape</th><th scope=col>Marg.adhesion</th><th scope=col>Epith.c.size</th><th scope=col>Bare.nuclei</th><th scope=col>Bl.cromatin</th><th scope=col>Normal.nucleoli</th><th scope=col>Mitoses</th><th scope=col>diagnosis</th></tr>\n",
              "\t<tr><th></th><th scope=col>&lt;ord&gt;</th><th scope=col>&lt;ord&gt;</th><th scope=col>&lt;ord&gt;</th><th scope=col>&lt;ord&gt;</th><th scope=col>&lt;ord&gt;</th><th scope=col>&lt;fct&gt;</th><th scope=col>&lt;fct&gt;</th><th scope=col>&lt;fct&gt;</th><th scope=col>&lt;fct&gt;</th><th scope=col>&lt;fct&gt;</th></tr>\n",
              "</thead>\n",
              "<tbody>\n",
              "\t<tr><th scope=row>1</th><td>5</td><td>1 </td><td>1 </td><td>1</td><td>2</td><td>1 </td><td>3</td><td>1</td><td>1</td><td>benign   </td></tr>\n",
              "\t<tr><th scope=row>2</th><td>5</td><td>4 </td><td>4 </td><td>5</td><td>7</td><td>10</td><td>3</td><td>2</td><td>1</td><td>benign   </td></tr>\n",
              "\t<tr><th scope=row>3</th><td>3</td><td>1 </td><td>1 </td><td>1</td><td>2</td><td>2 </td><td>3</td><td>1</td><td>1</td><td>benign   </td></tr>\n",
              "\t<tr><th scope=row>4</th><td>6</td><td>8 </td><td>8 </td><td>1</td><td>3</td><td>4 </td><td>3</td><td>7</td><td>1</td><td>benign   </td></tr>\n",
              "\t<tr><th scope=row>5</th><td>4</td><td>1 </td><td>1 </td><td>3</td><td>2</td><td>1 </td><td>3</td><td>1</td><td>1</td><td>benign   </td></tr>\n",
              "\t<tr><th scope=row>6</th><td>8</td><td>10</td><td>10</td><td>8</td><td>7</td><td>10</td><td>9</td><td>7</td><td>1</td><td>malignant</td></tr>\n",
              "</tbody>\n",
              "</table>\n"
            ],
            "text/markdown": "\nA data.frame: 6 × 10\n\n| <!--/--> | Cl.thickness &lt;ord&gt; | Cell.size &lt;ord&gt; | Cell.shape &lt;ord&gt; | Marg.adhesion &lt;ord&gt; | Epith.c.size &lt;ord&gt; | Bare.nuclei &lt;fct&gt; | Bl.cromatin &lt;fct&gt; | Normal.nucleoli &lt;fct&gt; | Mitoses &lt;fct&gt; | diagnosis &lt;fct&gt; |\n|---|---|---|---|---|---|---|---|---|---|---|\n| 1 | 5 | 1  | 1  | 1 | 2 | 1  | 3 | 1 | 1 | benign    |\n| 2 | 5 | 4  | 4  | 5 | 7 | 10 | 3 | 2 | 1 | benign    |\n| 3 | 3 | 1  | 1  | 1 | 2 | 2  | 3 | 1 | 1 | benign    |\n| 4 | 6 | 8  | 8  | 1 | 3 | 4  | 3 | 7 | 1 | benign    |\n| 5 | 4 | 1  | 1  | 3 | 2 | 1  | 3 | 1 | 1 | benign    |\n| 6 | 8 | 10 | 10 | 8 | 7 | 10 | 9 | 7 | 1 | malignant |\n\n",
            "text/latex": "A data.frame: 6 × 10\n\\begin{tabular}{r|llllllllll}\n  & Cl.thickness & Cell.size & Cell.shape & Marg.adhesion & Epith.c.size & Bare.nuclei & Bl.cromatin & Normal.nucleoli & Mitoses & diagnosis\\\\\n  & <ord> & <ord> & <ord> & <ord> & <ord> & <fct> & <fct> & <fct> & <fct> & <fct>\\\\\n\\hline\n\t1 & 5 & 1  & 1  & 1 & 2 & 1  & 3 & 1 & 1 & benign   \\\\\n\t2 & 5 & 4  & 4  & 5 & 7 & 10 & 3 & 2 & 1 & benign   \\\\\n\t3 & 3 & 1  & 1  & 1 & 2 & 2  & 3 & 1 & 1 & benign   \\\\\n\t4 & 6 & 8  & 8  & 1 & 3 & 4  & 3 & 7 & 1 & benign   \\\\\n\t5 & 4 & 1  & 1  & 3 & 2 & 1  & 3 & 1 & 1 & benign   \\\\\n\t6 & 8 & 10 & 10 & 8 & 7 & 10 & 9 & 7 & 1 & malignant\\\\\n\\end{tabular}\n",
            "text/plain": [
              "  Cl.thickness Cell.size Cell.shape Marg.adhesion Epith.c.size Bare.nuclei\n",
              "1 5            1         1          1             2            1          \n",
              "2 5            4         4          5             7            10         \n",
              "3 3            1         1          1             2            2          \n",
              "4 6            8         8          1             3            4          \n",
              "5 4            1         1          3             2            1          \n",
              "6 8            10        10         8             7            10         \n",
              "  Bl.cromatin Normal.nucleoli Mitoses diagnosis\n",
              "1 3           1               1       benign   \n",
              "2 3           2               1       benign   \n",
              "3 3           1               1       benign   \n",
              "4 3           7               1       benign   \n",
              "5 3           1               1       benign   \n",
              "6 9           7               1       malignant"
            ]
          },
          "metadata": {}
        }
      ]
    },
    {
      "cell_type": "code",
      "source": [
        "bc_data_clean$Bare.nuclei<-as.numeric(bc_data_clean$Bare.nuclei)\n",
        "bc_data_clean$Bl.cromatin<-as.numeric(bc_data_clean$Bl.cromatin)\n",
        "bc_data_clean$Cell.shape<-as.numeric(bc_data_clean$Cell.shape)\n",
        "bc_data_clean$Cell.size<-as.numeric(bc_data_clean$Cell.size)\n",
        "bc_data_clean$Cl.thickness<-as.numeric(bc_data_clean$Cl.thickness)\n",
        "bc_data_clean$Epith.c.size<-as.numeric(bc_data_clean$Epith.c.size)\n",
        "bc_data_clean$Marg.adhesion<-as.numeric(bc_data_clean$Marg.adhesion)\n",
        "bc_data_clean$Mitoses<-as.numeric(bc_data_clean$Mitoses)\n",
        "bc_data_clean$Normal.nucleoli<-as.numeric(bc_data_clean$Normal.nucleoli)"
      ],
      "metadata": {
        "id": "4dQTayzjy3az"
      },
      "execution_count": 6,
      "outputs": []
    },
    {
      "cell_type": "code",
      "source": [
        "head(bc_data_clean)"
      ],
      "metadata": {
        "colab": {
          "base_uri": "https://localhost:8080/",
          "height": 286
        },
        "id": "orK8D19x0IUS",
        "outputId": "66741ed8-4d58-440c-a225-7da99b0efb65"
      },
      "execution_count": 7,
      "outputs": [
        {
          "output_type": "display_data",
          "data": {
            "text/html": [
              "<table class=\"dataframe\">\n",
              "<caption>A data.frame: 6 × 10</caption>\n",
              "<thead>\n",
              "\t<tr><th></th><th scope=col>Cl.thickness</th><th scope=col>Cell.size</th><th scope=col>Cell.shape</th><th scope=col>Marg.adhesion</th><th scope=col>Epith.c.size</th><th scope=col>Bare.nuclei</th><th scope=col>Bl.cromatin</th><th scope=col>Normal.nucleoli</th><th scope=col>Mitoses</th><th scope=col>diagnosis</th></tr>\n",
              "\t<tr><th></th><th scope=col>&lt;dbl&gt;</th><th scope=col>&lt;dbl&gt;</th><th scope=col>&lt;dbl&gt;</th><th scope=col>&lt;dbl&gt;</th><th scope=col>&lt;dbl&gt;</th><th scope=col>&lt;dbl&gt;</th><th scope=col>&lt;dbl&gt;</th><th scope=col>&lt;dbl&gt;</th><th scope=col>&lt;dbl&gt;</th><th scope=col>&lt;fct&gt;</th></tr>\n",
              "</thead>\n",
              "<tbody>\n",
              "\t<tr><th scope=row>1</th><td>5</td><td> 1</td><td> 1</td><td>1</td><td>2</td><td> 1</td><td>3</td><td>1</td><td>1</td><td>benign   </td></tr>\n",
              "\t<tr><th scope=row>2</th><td>5</td><td> 4</td><td> 4</td><td>5</td><td>7</td><td>10</td><td>3</td><td>2</td><td>1</td><td>benign   </td></tr>\n",
              "\t<tr><th scope=row>3</th><td>3</td><td> 1</td><td> 1</td><td>1</td><td>2</td><td> 2</td><td>3</td><td>1</td><td>1</td><td>benign   </td></tr>\n",
              "\t<tr><th scope=row>4</th><td>6</td><td> 8</td><td> 8</td><td>1</td><td>3</td><td> 4</td><td>3</td><td>7</td><td>1</td><td>benign   </td></tr>\n",
              "\t<tr><th scope=row>5</th><td>4</td><td> 1</td><td> 1</td><td>3</td><td>2</td><td> 1</td><td>3</td><td>1</td><td>1</td><td>benign   </td></tr>\n",
              "\t<tr><th scope=row>6</th><td>8</td><td>10</td><td>10</td><td>8</td><td>7</td><td>10</td><td>9</td><td>7</td><td>1</td><td>malignant</td></tr>\n",
              "</tbody>\n",
              "</table>\n"
            ],
            "text/markdown": "\nA data.frame: 6 × 10\n\n| <!--/--> | Cl.thickness &lt;dbl&gt; | Cell.size &lt;dbl&gt; | Cell.shape &lt;dbl&gt; | Marg.adhesion &lt;dbl&gt; | Epith.c.size &lt;dbl&gt; | Bare.nuclei &lt;dbl&gt; | Bl.cromatin &lt;dbl&gt; | Normal.nucleoli &lt;dbl&gt; | Mitoses &lt;dbl&gt; | diagnosis &lt;fct&gt; |\n|---|---|---|---|---|---|---|---|---|---|---|\n| 1 | 5 |  1 |  1 | 1 | 2 |  1 | 3 | 1 | 1 | benign    |\n| 2 | 5 |  4 |  4 | 5 | 7 | 10 | 3 | 2 | 1 | benign    |\n| 3 | 3 |  1 |  1 | 1 | 2 |  2 | 3 | 1 | 1 | benign    |\n| 4 | 6 |  8 |  8 | 1 | 3 |  4 | 3 | 7 | 1 | benign    |\n| 5 | 4 |  1 |  1 | 3 | 2 |  1 | 3 | 1 | 1 | benign    |\n| 6 | 8 | 10 | 10 | 8 | 7 | 10 | 9 | 7 | 1 | malignant |\n\n",
            "text/latex": "A data.frame: 6 × 10\n\\begin{tabular}{r|llllllllll}\n  & Cl.thickness & Cell.size & Cell.shape & Marg.adhesion & Epith.c.size & Bare.nuclei & Bl.cromatin & Normal.nucleoli & Mitoses & diagnosis\\\\\n  & <dbl> & <dbl> & <dbl> & <dbl> & <dbl> & <dbl> & <dbl> & <dbl> & <dbl> & <fct>\\\\\n\\hline\n\t1 & 5 &  1 &  1 & 1 & 2 &  1 & 3 & 1 & 1 & benign   \\\\\n\t2 & 5 &  4 &  4 & 5 & 7 & 10 & 3 & 2 & 1 & benign   \\\\\n\t3 & 3 &  1 &  1 & 1 & 2 &  2 & 3 & 1 & 1 & benign   \\\\\n\t4 & 6 &  8 &  8 & 1 & 3 &  4 & 3 & 7 & 1 & benign   \\\\\n\t5 & 4 &  1 &  1 & 3 & 2 &  1 & 3 & 1 & 1 & benign   \\\\\n\t6 & 8 & 10 & 10 & 8 & 7 & 10 & 9 & 7 & 1 & malignant\\\\\n\\end{tabular}\n",
            "text/plain": [
              "  Cl.thickness Cell.size Cell.shape Marg.adhesion Epith.c.size Bare.nuclei\n",
              "1 5             1         1         1             2             1         \n",
              "2 5             4         4         5             7            10         \n",
              "3 3             1         1         1             2             2         \n",
              "4 6             8         8         1             3             4         \n",
              "5 4             1         1         3             2             1         \n",
              "6 8            10        10         8             7            10         \n",
              "  Bl.cromatin Normal.nucleoli Mitoses diagnosis\n",
              "1 3           1               1       benign   \n",
              "2 3           2               1       benign   \n",
              "3 3           1               1       benign   \n",
              "4 3           7               1       benign   \n",
              "5 3           1               1       benign   \n",
              "6 9           7               1       malignant"
            ]
          },
          "metadata": {}
        }
      ]
    },
    {
      "cell_type": "code",
      "source": [
        "# Data transformation\n",
        "normalize <- function(x) {\n",
        "  return ((x - min(x)) / (max(x) - min(x)))\n",
        "}\n",
        "new_bcd <- as.data.frame(lapply(select(bc_data_clean,-diagnosis), normalize))"
      ],
      "metadata": {
        "id": "hyZSwEVwreG4"
      },
      "execution_count": 8,
      "outputs": []
    },
    {
      "cell_type": "code",
      "source": [
        "head(new_bcd)"
      ],
      "metadata": {
        "colab": {
          "base_uri": "https://localhost:8080/",
          "height": 286
        },
        "id": "ODuDzuMt0VLr",
        "outputId": "7ce62013-9a3e-4dfb-e84c-b5ddba4eeccb"
      },
      "execution_count": 9,
      "outputs": [
        {
          "output_type": "display_data",
          "data": {
            "text/html": [
              "<table class=\"dataframe\">\n",
              "<caption>A data.frame: 6 × 9</caption>\n",
              "<thead>\n",
              "\t<tr><th></th><th scope=col>Cl.thickness</th><th scope=col>Cell.size</th><th scope=col>Cell.shape</th><th scope=col>Marg.adhesion</th><th scope=col>Epith.c.size</th><th scope=col>Bare.nuclei</th><th scope=col>Bl.cromatin</th><th scope=col>Normal.nucleoli</th><th scope=col>Mitoses</th></tr>\n",
              "\t<tr><th></th><th scope=col>&lt;dbl&gt;</th><th scope=col>&lt;dbl&gt;</th><th scope=col>&lt;dbl&gt;</th><th scope=col>&lt;dbl&gt;</th><th scope=col>&lt;dbl&gt;</th><th scope=col>&lt;dbl&gt;</th><th scope=col>&lt;dbl&gt;</th><th scope=col>&lt;dbl&gt;</th><th scope=col>&lt;dbl&gt;</th></tr>\n",
              "</thead>\n",
              "<tbody>\n",
              "\t<tr><th scope=row>1</th><td>0.4444444</td><td>0.0000000</td><td>0.0000000</td><td>0.0000000</td><td>0.1111111</td><td>0.0000000</td><td>0.2222222</td><td>0.0000000</td><td>0</td></tr>\n",
              "\t<tr><th scope=row>2</th><td>0.4444444</td><td>0.3333333</td><td>0.3333333</td><td>0.4444444</td><td>0.6666667</td><td>1.0000000</td><td>0.2222222</td><td>0.1111111</td><td>0</td></tr>\n",
              "\t<tr><th scope=row>3</th><td>0.2222222</td><td>0.0000000</td><td>0.0000000</td><td>0.0000000</td><td>0.1111111</td><td>0.1111111</td><td>0.2222222</td><td>0.0000000</td><td>0</td></tr>\n",
              "\t<tr><th scope=row>4</th><td>0.5555556</td><td>0.7777778</td><td>0.7777778</td><td>0.0000000</td><td>0.2222222</td><td>0.3333333</td><td>0.2222222</td><td>0.6666667</td><td>0</td></tr>\n",
              "\t<tr><th scope=row>5</th><td>0.3333333</td><td>0.0000000</td><td>0.0000000</td><td>0.2222222</td><td>0.1111111</td><td>0.0000000</td><td>0.2222222</td><td>0.0000000</td><td>0</td></tr>\n",
              "\t<tr><th scope=row>6</th><td>0.7777778</td><td>1.0000000</td><td>1.0000000</td><td>0.7777778</td><td>0.6666667</td><td>1.0000000</td><td>0.8888889</td><td>0.6666667</td><td>0</td></tr>\n",
              "</tbody>\n",
              "</table>\n"
            ],
            "text/markdown": "\nA data.frame: 6 × 9\n\n| <!--/--> | Cl.thickness &lt;dbl&gt; | Cell.size &lt;dbl&gt; | Cell.shape &lt;dbl&gt; | Marg.adhesion &lt;dbl&gt; | Epith.c.size &lt;dbl&gt; | Bare.nuclei &lt;dbl&gt; | Bl.cromatin &lt;dbl&gt; | Normal.nucleoli &lt;dbl&gt; | Mitoses &lt;dbl&gt; |\n|---|---|---|---|---|---|---|---|---|---|\n| 1 | 0.4444444 | 0.0000000 | 0.0000000 | 0.0000000 | 0.1111111 | 0.0000000 | 0.2222222 | 0.0000000 | 0 |\n| 2 | 0.4444444 | 0.3333333 | 0.3333333 | 0.4444444 | 0.6666667 | 1.0000000 | 0.2222222 | 0.1111111 | 0 |\n| 3 | 0.2222222 | 0.0000000 | 0.0000000 | 0.0000000 | 0.1111111 | 0.1111111 | 0.2222222 | 0.0000000 | 0 |\n| 4 | 0.5555556 | 0.7777778 | 0.7777778 | 0.0000000 | 0.2222222 | 0.3333333 | 0.2222222 | 0.6666667 | 0 |\n| 5 | 0.3333333 | 0.0000000 | 0.0000000 | 0.2222222 | 0.1111111 | 0.0000000 | 0.2222222 | 0.0000000 | 0 |\n| 6 | 0.7777778 | 1.0000000 | 1.0000000 | 0.7777778 | 0.6666667 | 1.0000000 | 0.8888889 | 0.6666667 | 0 |\n\n",
            "text/latex": "A data.frame: 6 × 9\n\\begin{tabular}{r|lllllllll}\n  & Cl.thickness & Cell.size & Cell.shape & Marg.adhesion & Epith.c.size & Bare.nuclei & Bl.cromatin & Normal.nucleoli & Mitoses\\\\\n  & <dbl> & <dbl> & <dbl> & <dbl> & <dbl> & <dbl> & <dbl> & <dbl> & <dbl>\\\\\n\\hline\n\t1 & 0.4444444 & 0.0000000 & 0.0000000 & 0.0000000 & 0.1111111 & 0.0000000 & 0.2222222 & 0.0000000 & 0\\\\\n\t2 & 0.4444444 & 0.3333333 & 0.3333333 & 0.4444444 & 0.6666667 & 1.0000000 & 0.2222222 & 0.1111111 & 0\\\\\n\t3 & 0.2222222 & 0.0000000 & 0.0000000 & 0.0000000 & 0.1111111 & 0.1111111 & 0.2222222 & 0.0000000 & 0\\\\\n\t4 & 0.5555556 & 0.7777778 & 0.7777778 & 0.0000000 & 0.2222222 & 0.3333333 & 0.2222222 & 0.6666667 & 0\\\\\n\t5 & 0.3333333 & 0.0000000 & 0.0000000 & 0.2222222 & 0.1111111 & 0.0000000 & 0.2222222 & 0.0000000 & 0\\\\\n\t6 & 0.7777778 & 1.0000000 & 1.0000000 & 0.7777778 & 0.6666667 & 1.0000000 & 0.8888889 & 0.6666667 & 0\\\\\n\\end{tabular}\n",
            "text/plain": [
              "  Cl.thickness Cell.size Cell.shape Marg.adhesion Epith.c.size Bare.nuclei\n",
              "1 0.4444444    0.0000000 0.0000000  0.0000000     0.1111111    0.0000000  \n",
              "2 0.4444444    0.3333333 0.3333333  0.4444444     0.6666667    1.0000000  \n",
              "3 0.2222222    0.0000000 0.0000000  0.0000000     0.1111111    0.1111111  \n",
              "4 0.5555556    0.7777778 0.7777778  0.0000000     0.2222222    0.3333333  \n",
              "5 0.3333333    0.0000000 0.0000000  0.2222222     0.1111111    0.0000000  \n",
              "6 0.7777778    1.0000000 1.0000000  0.7777778     0.6666667    1.0000000  \n",
              "  Bl.cromatin Normal.nucleoli Mitoses\n",
              "1 0.2222222   0.0000000       0      \n",
              "2 0.2222222   0.1111111       0      \n",
              "3 0.2222222   0.0000000       0      \n",
              "4 0.2222222   0.6666667       0      \n",
              "5 0.2222222   0.0000000       0      \n",
              "6 0.8888889   0.6666667       0      "
            ]
          },
          "metadata": {}
        }
      ]
    },
    {
      "cell_type": "code",
      "source": [
        "new_bcd$diagnosis<-bc_data_clean$diagnosis\n",
        "head(new_bcd)"
      ],
      "metadata": {
        "colab": {
          "base_uri": "https://localhost:8080/",
          "height": 286
        },
        "id": "ug_xI-C00YYM",
        "outputId": "c2f966ff-2072-4e1a-a635-43e643d6e317"
      },
      "execution_count": 10,
      "outputs": [
        {
          "output_type": "display_data",
          "data": {
            "text/html": [
              "<table class=\"dataframe\">\n",
              "<caption>A data.frame: 6 × 10</caption>\n",
              "<thead>\n",
              "\t<tr><th></th><th scope=col>Cl.thickness</th><th scope=col>Cell.size</th><th scope=col>Cell.shape</th><th scope=col>Marg.adhesion</th><th scope=col>Epith.c.size</th><th scope=col>Bare.nuclei</th><th scope=col>Bl.cromatin</th><th scope=col>Normal.nucleoli</th><th scope=col>Mitoses</th><th scope=col>diagnosis</th></tr>\n",
              "\t<tr><th></th><th scope=col>&lt;dbl&gt;</th><th scope=col>&lt;dbl&gt;</th><th scope=col>&lt;dbl&gt;</th><th scope=col>&lt;dbl&gt;</th><th scope=col>&lt;dbl&gt;</th><th scope=col>&lt;dbl&gt;</th><th scope=col>&lt;dbl&gt;</th><th scope=col>&lt;dbl&gt;</th><th scope=col>&lt;dbl&gt;</th><th scope=col>&lt;fct&gt;</th></tr>\n",
              "</thead>\n",
              "<tbody>\n",
              "\t<tr><th scope=row>1</th><td>0.4444444</td><td>0.0000000</td><td>0.0000000</td><td>0.0000000</td><td>0.1111111</td><td>0.0000000</td><td>0.2222222</td><td>0.0000000</td><td>0</td><td>benign   </td></tr>\n",
              "\t<tr><th scope=row>2</th><td>0.4444444</td><td>0.3333333</td><td>0.3333333</td><td>0.4444444</td><td>0.6666667</td><td>1.0000000</td><td>0.2222222</td><td>0.1111111</td><td>0</td><td>benign   </td></tr>\n",
              "\t<tr><th scope=row>3</th><td>0.2222222</td><td>0.0000000</td><td>0.0000000</td><td>0.0000000</td><td>0.1111111</td><td>0.1111111</td><td>0.2222222</td><td>0.0000000</td><td>0</td><td>benign   </td></tr>\n",
              "\t<tr><th scope=row>4</th><td>0.5555556</td><td>0.7777778</td><td>0.7777778</td><td>0.0000000</td><td>0.2222222</td><td>0.3333333</td><td>0.2222222</td><td>0.6666667</td><td>0</td><td>benign   </td></tr>\n",
              "\t<tr><th scope=row>5</th><td>0.3333333</td><td>0.0000000</td><td>0.0000000</td><td>0.2222222</td><td>0.1111111</td><td>0.0000000</td><td>0.2222222</td><td>0.0000000</td><td>0</td><td>benign   </td></tr>\n",
              "\t<tr><th scope=row>6</th><td>0.7777778</td><td>1.0000000</td><td>1.0000000</td><td>0.7777778</td><td>0.6666667</td><td>1.0000000</td><td>0.8888889</td><td>0.6666667</td><td>0</td><td>malignant</td></tr>\n",
              "</tbody>\n",
              "</table>\n"
            ],
            "text/markdown": "\nA data.frame: 6 × 10\n\n| <!--/--> | Cl.thickness &lt;dbl&gt; | Cell.size &lt;dbl&gt; | Cell.shape &lt;dbl&gt; | Marg.adhesion &lt;dbl&gt; | Epith.c.size &lt;dbl&gt; | Bare.nuclei &lt;dbl&gt; | Bl.cromatin &lt;dbl&gt; | Normal.nucleoli &lt;dbl&gt; | Mitoses &lt;dbl&gt; | diagnosis &lt;fct&gt; |\n|---|---|---|---|---|---|---|---|---|---|---|\n| 1 | 0.4444444 | 0.0000000 | 0.0000000 | 0.0000000 | 0.1111111 | 0.0000000 | 0.2222222 | 0.0000000 | 0 | benign    |\n| 2 | 0.4444444 | 0.3333333 | 0.3333333 | 0.4444444 | 0.6666667 | 1.0000000 | 0.2222222 | 0.1111111 | 0 | benign    |\n| 3 | 0.2222222 | 0.0000000 | 0.0000000 | 0.0000000 | 0.1111111 | 0.1111111 | 0.2222222 | 0.0000000 | 0 | benign    |\n| 4 | 0.5555556 | 0.7777778 | 0.7777778 | 0.0000000 | 0.2222222 | 0.3333333 | 0.2222222 | 0.6666667 | 0 | benign    |\n| 5 | 0.3333333 | 0.0000000 | 0.0000000 | 0.2222222 | 0.1111111 | 0.0000000 | 0.2222222 | 0.0000000 | 0 | benign    |\n| 6 | 0.7777778 | 1.0000000 | 1.0000000 | 0.7777778 | 0.6666667 | 1.0000000 | 0.8888889 | 0.6666667 | 0 | malignant |\n\n",
            "text/latex": "A data.frame: 6 × 10\n\\begin{tabular}{r|llllllllll}\n  & Cl.thickness & Cell.size & Cell.shape & Marg.adhesion & Epith.c.size & Bare.nuclei & Bl.cromatin & Normal.nucleoli & Mitoses & diagnosis\\\\\n  & <dbl> & <dbl> & <dbl> & <dbl> & <dbl> & <dbl> & <dbl> & <dbl> & <dbl> & <fct>\\\\\n\\hline\n\t1 & 0.4444444 & 0.0000000 & 0.0000000 & 0.0000000 & 0.1111111 & 0.0000000 & 0.2222222 & 0.0000000 & 0 & benign   \\\\\n\t2 & 0.4444444 & 0.3333333 & 0.3333333 & 0.4444444 & 0.6666667 & 1.0000000 & 0.2222222 & 0.1111111 & 0 & benign   \\\\\n\t3 & 0.2222222 & 0.0000000 & 0.0000000 & 0.0000000 & 0.1111111 & 0.1111111 & 0.2222222 & 0.0000000 & 0 & benign   \\\\\n\t4 & 0.5555556 & 0.7777778 & 0.7777778 & 0.0000000 & 0.2222222 & 0.3333333 & 0.2222222 & 0.6666667 & 0 & benign   \\\\\n\t5 & 0.3333333 & 0.0000000 & 0.0000000 & 0.2222222 & 0.1111111 & 0.0000000 & 0.2222222 & 0.0000000 & 0 & benign   \\\\\n\t6 & 0.7777778 & 1.0000000 & 1.0000000 & 0.7777778 & 0.6666667 & 1.0000000 & 0.8888889 & 0.6666667 & 0 & malignant\\\\\n\\end{tabular}\n",
            "text/plain": [
              "  Cl.thickness Cell.size Cell.shape Marg.adhesion Epith.c.size Bare.nuclei\n",
              "1 0.4444444    0.0000000 0.0000000  0.0000000     0.1111111    0.0000000  \n",
              "2 0.4444444    0.3333333 0.3333333  0.4444444     0.6666667    1.0000000  \n",
              "3 0.2222222    0.0000000 0.0000000  0.0000000     0.1111111    0.1111111  \n",
              "4 0.5555556    0.7777778 0.7777778  0.0000000     0.2222222    0.3333333  \n",
              "5 0.3333333    0.0000000 0.0000000  0.2222222     0.1111111    0.0000000  \n",
              "6 0.7777778    1.0000000 1.0000000  0.7777778     0.6666667    1.0000000  \n",
              "  Bl.cromatin Normal.nucleoli Mitoses diagnosis\n",
              "1 0.2222222   0.0000000       0       benign   \n",
              "2 0.2222222   0.1111111       0       benign   \n",
              "3 0.2222222   0.0000000       0       benign   \n",
              "4 0.2222222   0.6666667       0       benign   \n",
              "5 0.2222222   0.0000000       0       benign   \n",
              "6 0.8888889   0.6666667       0       malignant"
            ]
          },
          "metadata": {}
        }
      ]
    },
    {
      "cell_type": "code",
      "source": [
        "install.packages('tree')\n",
        "library('tree')"
      ],
      "metadata": {
        "colab": {
          "base_uri": "https://localhost:8080/"
        },
        "id": "migbb15F0x6N",
        "outputId": "10c145b9-36a0-4060-b775-e7af836a2df4"
      },
      "execution_count": 12,
      "outputs": [
        {
          "output_type": "stream",
          "name": "stderr",
          "text": [
            "Installing package into ‘/usr/local/lib/R/site-library’\n",
            "(as ‘lib’ is unspecified)\n",
            "\n"
          ]
        }
      ]
    },
    {
      "cell_type": "code",
      "source": [
        "predictors <- select(new_bcd,-diagnosis)\n",
        "target <- new_bcd$diagnosis"
      ],
      "metadata": {
        "id": "wOT3R9Ih1EhC"
      },
      "execution_count": 13,
      "outputs": []
    },
    {
      "cell_type": "code",
      "source": [
        "head(predictors)"
      ],
      "metadata": {
        "colab": {
          "base_uri": "https://localhost:8080/",
          "height": 286
        },
        "id": "gYWbIieZ1esF",
        "outputId": "a396f203-d506-44ff-a539-e620cf9225a5"
      },
      "execution_count": 14,
      "outputs": [
        {
          "output_type": "display_data",
          "data": {
            "text/html": [
              "<table class=\"dataframe\">\n",
              "<caption>A data.frame: 6 × 9</caption>\n",
              "<thead>\n",
              "\t<tr><th></th><th scope=col>Cl.thickness</th><th scope=col>Cell.size</th><th scope=col>Cell.shape</th><th scope=col>Marg.adhesion</th><th scope=col>Epith.c.size</th><th scope=col>Bare.nuclei</th><th scope=col>Bl.cromatin</th><th scope=col>Normal.nucleoli</th><th scope=col>Mitoses</th></tr>\n",
              "\t<tr><th></th><th scope=col>&lt;dbl&gt;</th><th scope=col>&lt;dbl&gt;</th><th scope=col>&lt;dbl&gt;</th><th scope=col>&lt;dbl&gt;</th><th scope=col>&lt;dbl&gt;</th><th scope=col>&lt;dbl&gt;</th><th scope=col>&lt;dbl&gt;</th><th scope=col>&lt;dbl&gt;</th><th scope=col>&lt;dbl&gt;</th></tr>\n",
              "</thead>\n",
              "<tbody>\n",
              "\t<tr><th scope=row>1</th><td>0.4444444</td><td>0.0000000</td><td>0.0000000</td><td>0.0000000</td><td>0.1111111</td><td>0.0000000</td><td>0.2222222</td><td>0.0000000</td><td>0</td></tr>\n",
              "\t<tr><th scope=row>2</th><td>0.4444444</td><td>0.3333333</td><td>0.3333333</td><td>0.4444444</td><td>0.6666667</td><td>1.0000000</td><td>0.2222222</td><td>0.1111111</td><td>0</td></tr>\n",
              "\t<tr><th scope=row>3</th><td>0.2222222</td><td>0.0000000</td><td>0.0000000</td><td>0.0000000</td><td>0.1111111</td><td>0.1111111</td><td>0.2222222</td><td>0.0000000</td><td>0</td></tr>\n",
              "\t<tr><th scope=row>4</th><td>0.5555556</td><td>0.7777778</td><td>0.7777778</td><td>0.0000000</td><td>0.2222222</td><td>0.3333333</td><td>0.2222222</td><td>0.6666667</td><td>0</td></tr>\n",
              "\t<tr><th scope=row>5</th><td>0.3333333</td><td>0.0000000</td><td>0.0000000</td><td>0.2222222</td><td>0.1111111</td><td>0.0000000</td><td>0.2222222</td><td>0.0000000</td><td>0</td></tr>\n",
              "\t<tr><th scope=row>6</th><td>0.7777778</td><td>1.0000000</td><td>1.0000000</td><td>0.7777778</td><td>0.6666667</td><td>1.0000000</td><td>0.8888889</td><td>0.6666667</td><td>0</td></tr>\n",
              "</tbody>\n",
              "</table>\n"
            ],
            "text/markdown": "\nA data.frame: 6 × 9\n\n| <!--/--> | Cl.thickness &lt;dbl&gt; | Cell.size &lt;dbl&gt; | Cell.shape &lt;dbl&gt; | Marg.adhesion &lt;dbl&gt; | Epith.c.size &lt;dbl&gt; | Bare.nuclei &lt;dbl&gt; | Bl.cromatin &lt;dbl&gt; | Normal.nucleoli &lt;dbl&gt; | Mitoses &lt;dbl&gt; |\n|---|---|---|---|---|---|---|---|---|---|\n| 1 | 0.4444444 | 0.0000000 | 0.0000000 | 0.0000000 | 0.1111111 | 0.0000000 | 0.2222222 | 0.0000000 | 0 |\n| 2 | 0.4444444 | 0.3333333 | 0.3333333 | 0.4444444 | 0.6666667 | 1.0000000 | 0.2222222 | 0.1111111 | 0 |\n| 3 | 0.2222222 | 0.0000000 | 0.0000000 | 0.0000000 | 0.1111111 | 0.1111111 | 0.2222222 | 0.0000000 | 0 |\n| 4 | 0.5555556 | 0.7777778 | 0.7777778 | 0.0000000 | 0.2222222 | 0.3333333 | 0.2222222 | 0.6666667 | 0 |\n| 5 | 0.3333333 | 0.0000000 | 0.0000000 | 0.2222222 | 0.1111111 | 0.0000000 | 0.2222222 | 0.0000000 | 0 |\n| 6 | 0.7777778 | 1.0000000 | 1.0000000 | 0.7777778 | 0.6666667 | 1.0000000 | 0.8888889 | 0.6666667 | 0 |\n\n",
            "text/latex": "A data.frame: 6 × 9\n\\begin{tabular}{r|lllllllll}\n  & Cl.thickness & Cell.size & Cell.shape & Marg.adhesion & Epith.c.size & Bare.nuclei & Bl.cromatin & Normal.nucleoli & Mitoses\\\\\n  & <dbl> & <dbl> & <dbl> & <dbl> & <dbl> & <dbl> & <dbl> & <dbl> & <dbl>\\\\\n\\hline\n\t1 & 0.4444444 & 0.0000000 & 0.0000000 & 0.0000000 & 0.1111111 & 0.0000000 & 0.2222222 & 0.0000000 & 0\\\\\n\t2 & 0.4444444 & 0.3333333 & 0.3333333 & 0.4444444 & 0.6666667 & 1.0000000 & 0.2222222 & 0.1111111 & 0\\\\\n\t3 & 0.2222222 & 0.0000000 & 0.0000000 & 0.0000000 & 0.1111111 & 0.1111111 & 0.2222222 & 0.0000000 & 0\\\\\n\t4 & 0.5555556 & 0.7777778 & 0.7777778 & 0.0000000 & 0.2222222 & 0.3333333 & 0.2222222 & 0.6666667 & 0\\\\\n\t5 & 0.3333333 & 0.0000000 & 0.0000000 & 0.2222222 & 0.1111111 & 0.0000000 & 0.2222222 & 0.0000000 & 0\\\\\n\t6 & 0.7777778 & 1.0000000 & 1.0000000 & 0.7777778 & 0.6666667 & 1.0000000 & 0.8888889 & 0.6666667 & 0\\\\\n\\end{tabular}\n",
            "text/plain": [
              "  Cl.thickness Cell.size Cell.shape Marg.adhesion Epith.c.size Bare.nuclei\n",
              "1 0.4444444    0.0000000 0.0000000  0.0000000     0.1111111    0.0000000  \n",
              "2 0.4444444    0.3333333 0.3333333  0.4444444     0.6666667    1.0000000  \n",
              "3 0.2222222    0.0000000 0.0000000  0.0000000     0.1111111    0.1111111  \n",
              "4 0.5555556    0.7777778 0.7777778  0.0000000     0.2222222    0.3333333  \n",
              "5 0.3333333    0.0000000 0.0000000  0.2222222     0.1111111    0.0000000  \n",
              "6 0.7777778    1.0000000 1.0000000  0.7777778     0.6666667    1.0000000  \n",
              "  Bl.cromatin Normal.nucleoli Mitoses\n",
              "1 0.2222222   0.0000000       0      \n",
              "2 0.2222222   0.1111111       0      \n",
              "3 0.2222222   0.0000000       0      \n",
              "4 0.2222222   0.6666667       0      \n",
              "5 0.2222222   0.0000000       0      \n",
              "6 0.8888889   0.6666667       0      "
            ]
          },
          "metadata": {}
        }
      ]
    },
    {
      "cell_type": "code",
      "source": [
        "head(target)"
      ],
      "metadata": {
        "colab": {
          "base_uri": "https://localhost:8080/",
          "height": 52
        },
        "id": "Ex8G-ggU1iOh",
        "outputId": "0e36a0a1-9d8e-4a21-feaf-16e1b2e6c0cb"
      },
      "execution_count": 15,
      "outputs": [
        {
          "output_type": "display_data",
          "data": {
            "text/html": [
              "<style>\n",
              ".list-inline {list-style: none; margin:0; padding: 0}\n",
              ".list-inline>li {display: inline-block}\n",
              ".list-inline>li:not(:last-child)::after {content: \"\\00b7\"; padding: 0 .5ex}\n",
              "</style>\n",
              "<ol class=list-inline><li>benign</li><li>benign</li><li>benign</li><li>benign</li><li>benign</li><li>malignant</li></ol>\n",
              "\n",
              "<details>\n",
              "\t<summary style=display:list-item;cursor:pointer>\n",
              "\t\t<strong>Levels</strong>:\n",
              "\t</summary>\n",
              "\t<style>\n",
              "\t.list-inline {list-style: none; margin:0; padding: 0}\n",
              "\t.list-inline>li {display: inline-block}\n",
              "\t.list-inline>li:not(:last-child)::after {content: \"\\00b7\"; padding: 0 .5ex}\n",
              "\t</style>\n",
              "\t<ol class=list-inline><li>'benign'</li><li>'malignant'</li></ol>\n",
              "</details>"
            ],
            "text/markdown": "1. benign\n2. benign\n3. benign\n4. benign\n5. benign\n6. malignant\n\n\n\n**Levels**: 1. 'benign'\n2. 'malignant'\n\n\n",
            "text/latex": "\\begin{enumerate*}\n\\item benign\n\\item benign\n\\item benign\n\\item benign\n\\item benign\n\\item malignant\n\\end{enumerate*}\n\n\\emph{Levels}: \\begin{enumerate*}\n\\item 'benign'\n\\item 'malignant'\n\\end{enumerate*}\n",
            "text/plain": [
              "[1] benign    benign    benign    benign    benign    malignant\n",
              "Levels: benign malignant"
            ]
          },
          "metadata": {}
        }
      ]
    },
    {
      "cell_type": "code",
      "source": [
        "# Create a training set and a testing set\n",
        "set.seed(123)\n",
        "train_indices <- sample(1:nrow(new_bcd), 0.7 * nrow(new_bcd))\n",
        "train_data <- new_bcd[train_indices, ]\n",
        "test_data <- new_bcd[-train_indices, ]"
      ],
      "metadata": {
        "id": "fZKjdyQ51kd0"
      },
      "execution_count": 16,
      "outputs": []
    },
    {
      "cell_type": "code",
      "source": [
        "head(test_data)"
      ],
      "metadata": {
        "colab": {
          "base_uri": "https://localhost:8080/",
          "height": 286
        },
        "id": "suwx8aYj4AsX",
        "outputId": "14a04873-d470-417e-b629-7e0a5e1fe37b"
      },
      "execution_count": 30,
      "outputs": [
        {
          "output_type": "display_data",
          "data": {
            "text/html": [
              "<table class=\"dataframe\">\n",
              "<caption>A data.frame: 6 × 10</caption>\n",
              "<thead>\n",
              "\t<tr><th></th><th scope=col>Cl.thickness</th><th scope=col>Cell.size</th><th scope=col>Cell.shape</th><th scope=col>Marg.adhesion</th><th scope=col>Epith.c.size</th><th scope=col>Bare.nuclei</th><th scope=col>Bl.cromatin</th><th scope=col>Normal.nucleoli</th><th scope=col>Mitoses</th><th scope=col>diagnosis</th></tr>\n",
              "\t<tr><th></th><th scope=col>&lt;dbl&gt;</th><th scope=col>&lt;dbl&gt;</th><th scope=col>&lt;dbl&gt;</th><th scope=col>&lt;dbl&gt;</th><th scope=col>&lt;dbl&gt;</th><th scope=col>&lt;dbl&gt;</th><th scope=col>&lt;dbl&gt;</th><th scope=col>&lt;dbl&gt;</th><th scope=col>&lt;dbl&gt;</th><th scope=col>&lt;fct&gt;</th></tr>\n",
              "</thead>\n",
              "<tbody>\n",
              "\t<tr><th scope=row>1</th><td>0.4444444</td><td>0.0000000</td><td>0.0000000</td><td>0.0000000</td><td>0.1111111</td><td>0.0000000</td><td>0.2222222</td><td>0.0000000</td><td>0.000</td><td>benign   </td></tr>\n",
              "\t<tr><th scope=row>2</th><td>0.4444444</td><td>0.3333333</td><td>0.3333333</td><td>0.4444444</td><td>0.6666667</td><td>1.0000000</td><td>0.2222222</td><td>0.1111111</td><td>0.000</td><td>benign   </td></tr>\n",
              "\t<tr><th scope=row>3</th><td>0.2222222</td><td>0.0000000</td><td>0.0000000</td><td>0.0000000</td><td>0.1111111</td><td>0.1111111</td><td>0.2222222</td><td>0.0000000</td><td>0.000</td><td>benign   </td></tr>\n",
              "\t<tr><th scope=row>9</th><td>0.1111111</td><td>0.0000000</td><td>0.0000000</td><td>0.0000000</td><td>0.1111111</td><td>0.0000000</td><td>0.0000000</td><td>0.0000000</td><td>0.500</td><td>benign   </td></tr>\n",
              "\t<tr><th scope=row>15</th><td>0.7777778</td><td>0.6666667</td><td>0.4444444</td><td>1.0000000</td><td>0.6666667</td><td>0.8888889</td><td>0.4444444</td><td>0.4444444</td><td>0.375</td><td>malignant</td></tr>\n",
              "\t<tr><th scope=row>17</th><td>0.3333333</td><td>0.0000000</td><td>0.0000000</td><td>0.0000000</td><td>0.1111111</td><td>0.0000000</td><td>0.1111111</td><td>0.0000000</td><td>0.000</td><td>benign   </td></tr>\n",
              "</tbody>\n",
              "</table>\n"
            ],
            "text/markdown": "\nA data.frame: 6 × 10\n\n| <!--/--> | Cl.thickness &lt;dbl&gt; | Cell.size &lt;dbl&gt; | Cell.shape &lt;dbl&gt; | Marg.adhesion &lt;dbl&gt; | Epith.c.size &lt;dbl&gt; | Bare.nuclei &lt;dbl&gt; | Bl.cromatin &lt;dbl&gt; | Normal.nucleoli &lt;dbl&gt; | Mitoses &lt;dbl&gt; | diagnosis &lt;fct&gt; |\n|---|---|---|---|---|---|---|---|---|---|---|\n| 1 | 0.4444444 | 0.0000000 | 0.0000000 | 0.0000000 | 0.1111111 | 0.0000000 | 0.2222222 | 0.0000000 | 0.000 | benign    |\n| 2 | 0.4444444 | 0.3333333 | 0.3333333 | 0.4444444 | 0.6666667 | 1.0000000 | 0.2222222 | 0.1111111 | 0.000 | benign    |\n| 3 | 0.2222222 | 0.0000000 | 0.0000000 | 0.0000000 | 0.1111111 | 0.1111111 | 0.2222222 | 0.0000000 | 0.000 | benign    |\n| 9 | 0.1111111 | 0.0000000 | 0.0000000 | 0.0000000 | 0.1111111 | 0.0000000 | 0.0000000 | 0.0000000 | 0.500 | benign    |\n| 15 | 0.7777778 | 0.6666667 | 0.4444444 | 1.0000000 | 0.6666667 | 0.8888889 | 0.4444444 | 0.4444444 | 0.375 | malignant |\n| 17 | 0.3333333 | 0.0000000 | 0.0000000 | 0.0000000 | 0.1111111 | 0.0000000 | 0.1111111 | 0.0000000 | 0.000 | benign    |\n\n",
            "text/latex": "A data.frame: 6 × 10\n\\begin{tabular}{r|llllllllll}\n  & Cl.thickness & Cell.size & Cell.shape & Marg.adhesion & Epith.c.size & Bare.nuclei & Bl.cromatin & Normal.nucleoli & Mitoses & diagnosis\\\\\n  & <dbl> & <dbl> & <dbl> & <dbl> & <dbl> & <dbl> & <dbl> & <dbl> & <dbl> & <fct>\\\\\n\\hline\n\t1 & 0.4444444 & 0.0000000 & 0.0000000 & 0.0000000 & 0.1111111 & 0.0000000 & 0.2222222 & 0.0000000 & 0.000 & benign   \\\\\n\t2 & 0.4444444 & 0.3333333 & 0.3333333 & 0.4444444 & 0.6666667 & 1.0000000 & 0.2222222 & 0.1111111 & 0.000 & benign   \\\\\n\t3 & 0.2222222 & 0.0000000 & 0.0000000 & 0.0000000 & 0.1111111 & 0.1111111 & 0.2222222 & 0.0000000 & 0.000 & benign   \\\\\n\t9 & 0.1111111 & 0.0000000 & 0.0000000 & 0.0000000 & 0.1111111 & 0.0000000 & 0.0000000 & 0.0000000 & 0.500 & benign   \\\\\n\t15 & 0.7777778 & 0.6666667 & 0.4444444 & 1.0000000 & 0.6666667 & 0.8888889 & 0.4444444 & 0.4444444 & 0.375 & malignant\\\\\n\t17 & 0.3333333 & 0.0000000 & 0.0000000 & 0.0000000 & 0.1111111 & 0.0000000 & 0.1111111 & 0.0000000 & 0.000 & benign   \\\\\n\\end{tabular}\n",
            "text/plain": [
              "   Cl.thickness Cell.size Cell.shape Marg.adhesion Epith.c.size Bare.nuclei\n",
              "1  0.4444444    0.0000000 0.0000000  0.0000000     0.1111111    0.0000000  \n",
              "2  0.4444444    0.3333333 0.3333333  0.4444444     0.6666667    1.0000000  \n",
              "3  0.2222222    0.0000000 0.0000000  0.0000000     0.1111111    0.1111111  \n",
              "9  0.1111111    0.0000000 0.0000000  0.0000000     0.1111111    0.0000000  \n",
              "15 0.7777778    0.6666667 0.4444444  1.0000000     0.6666667    0.8888889  \n",
              "17 0.3333333    0.0000000 0.0000000  0.0000000     0.1111111    0.0000000  \n",
              "   Bl.cromatin Normal.nucleoli Mitoses diagnosis\n",
              "1  0.2222222   0.0000000       0.000   benign   \n",
              "2  0.2222222   0.1111111       0.000   benign   \n",
              "3  0.2222222   0.0000000       0.000   benign   \n",
              "9  0.0000000   0.0000000       0.500   benign   \n",
              "15 0.4444444   0.4444444       0.375   malignant\n",
              "17 0.1111111   0.0000000       0.000   benign   "
            ]
          },
          "metadata": {}
        }
      ]
    },
    {
      "cell_type": "code",
      "source": [
        "# Train the decision tree model\n",
        "dt_model <- tree(diagnosis ~ ., data = train_data)"
      ],
      "metadata": {
        "id": "dW4GI2L02niD"
      },
      "execution_count": 19,
      "outputs": []
    },
    {
      "cell_type": "code",
      "source": [
        "# Print a summary of the model\n",
        "summary(dt_model)"
      ],
      "metadata": {
        "colab": {
          "base_uri": "https://localhost:8080/",
          "height": 178
        },
        "id": "hils3qsH2x15",
        "outputId": "f91a095e-590f-42be-a466-d53ea4f15af4"
      },
      "execution_count": 20,
      "outputs": [
        {
          "output_type": "display_data",
          "data": {
            "text/plain": [
              "\n",
              "Classification tree:\n",
              "tree(formula = diagnosis ~ ., data = train_data)\n",
              "Variables actually used in tree construction:\n",
              "[1] \"Cell.size\"       \"Bare.nuclei\"     \"Cl.thickness\"    \"Normal.nucleoli\"\n",
              "[5] \"Marg.adhesion\"  \n",
              "Number of terminal nodes:  8 \n",
              "Residual mean deviance:  0.1315 = 61.83 / 470 \n",
              "Misclassification error rate: 0.02929 = 14 / 478 "
            ]
          },
          "metadata": {}
        }
      ]
    },
    {
      "cell_type": "code",
      "source": [
        "# Predict on the test set\n",
        "predictions <- predict(dt_model, test_data, type = \"class\")"
      ],
      "metadata": {
        "id": "b3mo4Xqi2_kZ"
      },
      "execution_count": 22,
      "outputs": []
    },
    {
      "cell_type": "code",
      "source": [
        "predictions"
      ],
      "metadata": {
        "colab": {
          "base_uri": "https://localhost:8080/",
          "height": 208
        },
        "id": "I3s5tWrF3MlD",
        "outputId": "60271820-c9a4-4ca0-b1d0-61afac8b5d4b"
      },
      "execution_count": 23,
      "outputs": [
        {
          "output_type": "display_data",
          "data": {
            "text/html": [
              "<style>\n",
              ".list-inline {list-style: none; margin:0; padding: 0}\n",
              ".list-inline>li {display: inline-block}\n",
              ".list-inline>li:not(:last-child)::after {content: \"\\00b7\"; padding: 0 .5ex}\n",
              "</style>\n",
              "<ol class=list-inline><li>benign</li><li>malignant</li><li>benign</li><li>benign</li><li>malignant</li><li>benign</li><li>benign</li><li>malignant</li><li>benign</li><li>malignant</li><li>benign</li><li>malignant</li><li>malignant</li><li>benign</li><li>benign</li><li>malignant</li><li>benign</li><li>malignant</li><li>benign</li><li>malignant</li><li>benign</li><li>benign</li><li>benign</li><li>malignant</li><li>malignant</li><li>benign</li><li>benign</li><li>benign</li><li>benign</li><li>benign</li><li>malignant</li><li>malignant</li><li>malignant</li><li>benign</li><li>benign</li><li>malignant</li><li>benign</li><li>benign</li><li>benign</li><li>benign</li><li>malignant</li><li>benign</li><li>benign</li><li>benign</li><li>malignant</li><li>malignant</li><li>benign</li><li>benign</li><li>malignant</li><li>malignant</li><li>benign</li><li>benign</li><li>benign</li><li>malignant</li><li>malignant</li><li>malignant</li><li>benign</li><li>malignant</li><li>malignant</li><li>malignant</li><li>malignant</li><li>malignant</li><li>benign</li><li>malignant</li><li>malignant</li><li>benign</li><li>benign</li><li>malignant</li><li>malignant</li><li>malignant</li><li>malignant</li><li>benign</li><li>benign</li><li>benign</li><li>malignant</li><li>benign</li><li>benign</li><li>malignant</li><li>malignant</li><li>benign</li><li>malignant</li><li>malignant</li><li>benign</li><li>benign</li><li>malignant</li><li>malignant</li><li>benign</li><li>benign</li><li>benign</li><li>malignant</li><li>benign</li><li>benign</li><li>malignant</li><li>benign</li><li>benign</li><li>benign</li><li>benign</li><li>benign</li><li>malignant</li><li>malignant</li><li>benign</li><li>benign</li><li>malignant</li><li>benign</li><li>benign</li><li>benign</li><li>benign</li><li>benign</li><li>benign</li><li>benign</li><li>benign</li><li>benign</li><li>malignant</li><li>malignant</li><li>benign</li><li>benign</li><li>malignant</li><li>benign</li><li>benign</li><li>malignant</li><li>benign</li><li>benign</li><li>malignant</li><li>benign</li><li>benign</li><li>benign</li><li>benign</li><li>benign</li><li>malignant</li><li>malignant</li><li>benign</li><li>malignant</li><li>benign</li><li>benign</li><li>benign</li><li>benign</li><li>malignant</li><li>benign</li><li>benign</li><li>benign</li><li>benign</li><li>benign</li><li>benign</li><li>malignant</li><li>benign</li><li>benign</li><li>benign</li><li>malignant</li><li>benign</li><li>malignant</li><li>benign</li><li>benign</li><li>benign</li><li>benign</li><li>benign</li><li>benign</li><li>benign</li><li>benign</li><li>benign</li><li>malignant</li><li>benign</li><li>malignant</li><li>benign</li><li>malignant</li><li>benign</li><li>benign</li><li>benign</li><li>benign</li><li>benign</li><li>benign</li><li>benign</li><li>benign</li><li>malignant</li><li>benign</li><li>benign</li><li>malignant</li><li>benign</li><li>malignant</li><li>malignant</li><li>malignant</li><li>benign</li><li>benign</li><li>benign</li><li>benign</li><li>benign</li><li>benign</li><li>benign</li><li>benign</li><li>benign</li><li>benign</li><li>benign</li><li>benign</li><li>malignant</li><li>malignant</li><li>malignant</li><li>benign</li><li>benign</li><li>benign</li><li>benign</li><li>malignant</li><li>benign</li><li>benign</li><li>malignant</li><li>benign</li><li>benign</li></ol>\n",
              "\n",
              "<details>\n",
              "\t<summary style=display:list-item;cursor:pointer>\n",
              "\t\t<strong>Levels</strong>:\n",
              "\t</summary>\n",
              "\t<style>\n",
              "\t.list-inline {list-style: none; margin:0; padding: 0}\n",
              "\t.list-inline>li {display: inline-block}\n",
              "\t.list-inline>li:not(:last-child)::after {content: \"\\00b7\"; padding: 0 .5ex}\n",
              "\t</style>\n",
              "\t<ol class=list-inline><li>'benign'</li><li>'malignant'</li></ol>\n",
              "</details>"
            ],
            "text/markdown": "1. benign\n2. malignant\n3. benign\n4. benign\n5. malignant\n6. benign\n7. benign\n8. malignant\n9. benign\n10. malignant\n11. benign\n12. malignant\n13. malignant\n14. benign\n15. benign\n16. malignant\n17. benign\n18. malignant\n19. benign\n20. malignant\n21. benign\n22. benign\n23. benign\n24. malignant\n25. malignant\n26. benign\n27. benign\n28. benign\n29. benign\n30. benign\n31. malignant\n32. malignant\n33. malignant\n34. benign\n35. benign\n36. malignant\n37. benign\n38. benign\n39. benign\n40. benign\n41. malignant\n42. benign\n43. benign\n44. benign\n45. malignant\n46. malignant\n47. benign\n48. benign\n49. malignant\n50. malignant\n51. benign\n52. benign\n53. benign\n54. malignant\n55. malignant\n56. malignant\n57. benign\n58. malignant\n59. malignant\n60. malignant\n61. malignant\n62. malignant\n63. benign\n64. malignant\n65. malignant\n66. benign\n67. benign\n68. malignant\n69. malignant\n70. malignant\n71. malignant\n72. benign\n73. benign\n74. benign\n75. malignant\n76. benign\n77. benign\n78. malignant\n79. malignant\n80. benign\n81. malignant\n82. malignant\n83. benign\n84. benign\n85. malignant\n86. malignant\n87. benign\n88. benign\n89. benign\n90. malignant\n91. benign\n92. benign\n93. malignant\n94. benign\n95. benign\n96. benign\n97. benign\n98. benign\n99. malignant\n100. malignant\n101. benign\n102. benign\n103. malignant\n104. benign\n105. benign\n106. benign\n107. benign\n108. benign\n109. benign\n110. benign\n111. benign\n112. benign\n113. malignant\n114. malignant\n115. benign\n116. benign\n117. malignant\n118. benign\n119. benign\n120. malignant\n121. benign\n122. benign\n123. malignant\n124. benign\n125. benign\n126. benign\n127. benign\n128. benign\n129. malignant\n130. malignant\n131. benign\n132. malignant\n133. benign\n134. benign\n135. benign\n136. benign\n137. malignant\n138. benign\n139. benign\n140. benign\n141. benign\n142. benign\n143. benign\n144. malignant\n145. benign\n146. benign\n147. benign\n148. malignant\n149. benign\n150. malignant\n151. benign\n152. benign\n153. benign\n154. benign\n155. benign\n156. benign\n157. benign\n158. benign\n159. benign\n160. malignant\n161. benign\n162. malignant\n163. benign\n164. malignant\n165. benign\n166. benign\n167. benign\n168. benign\n169. benign\n170. benign\n171. benign\n172. benign\n173. malignant\n174. benign\n175. benign\n176. malignant\n177. benign\n178. malignant\n179. malignant\n180. malignant\n181. benign\n182. benign\n183. benign\n184. benign\n185. benign\n186. benign\n187. benign\n188. benign\n189. benign\n190. benign\n191. benign\n192. benign\n193. malignant\n194. malignant\n195. malignant\n196. benign\n197. benign\n198. benign\n199. benign\n200. malignant\n201. benign\n202. benign\n203. malignant\n204. benign\n205. benign\n\n\n\n**Levels**: 1. 'benign'\n2. 'malignant'\n\n\n",
            "text/latex": "\\begin{enumerate*}\n\\item benign\n\\item malignant\n\\item benign\n\\item benign\n\\item malignant\n\\item benign\n\\item benign\n\\item malignant\n\\item benign\n\\item malignant\n\\item benign\n\\item malignant\n\\item malignant\n\\item benign\n\\item benign\n\\item malignant\n\\item benign\n\\item malignant\n\\item benign\n\\item malignant\n\\item benign\n\\item benign\n\\item benign\n\\item malignant\n\\item malignant\n\\item benign\n\\item benign\n\\item benign\n\\item benign\n\\item benign\n\\item malignant\n\\item malignant\n\\item malignant\n\\item benign\n\\item benign\n\\item malignant\n\\item benign\n\\item benign\n\\item benign\n\\item benign\n\\item malignant\n\\item benign\n\\item benign\n\\item benign\n\\item malignant\n\\item malignant\n\\item benign\n\\item benign\n\\item malignant\n\\item malignant\n\\item benign\n\\item benign\n\\item benign\n\\item malignant\n\\item malignant\n\\item malignant\n\\item benign\n\\item malignant\n\\item malignant\n\\item malignant\n\\item malignant\n\\item malignant\n\\item benign\n\\item malignant\n\\item malignant\n\\item benign\n\\item benign\n\\item malignant\n\\item malignant\n\\item malignant\n\\item malignant\n\\item benign\n\\item benign\n\\item benign\n\\item malignant\n\\item benign\n\\item benign\n\\item malignant\n\\item malignant\n\\item benign\n\\item malignant\n\\item malignant\n\\item benign\n\\item benign\n\\item malignant\n\\item malignant\n\\item benign\n\\item benign\n\\item benign\n\\item malignant\n\\item benign\n\\item benign\n\\item malignant\n\\item benign\n\\item benign\n\\item benign\n\\item benign\n\\item benign\n\\item malignant\n\\item malignant\n\\item benign\n\\item benign\n\\item malignant\n\\item benign\n\\item benign\n\\item benign\n\\item benign\n\\item benign\n\\item benign\n\\item benign\n\\item benign\n\\item benign\n\\item malignant\n\\item malignant\n\\item benign\n\\item benign\n\\item malignant\n\\item benign\n\\item benign\n\\item malignant\n\\item benign\n\\item benign\n\\item malignant\n\\item benign\n\\item benign\n\\item benign\n\\item benign\n\\item benign\n\\item malignant\n\\item malignant\n\\item benign\n\\item malignant\n\\item benign\n\\item benign\n\\item benign\n\\item benign\n\\item malignant\n\\item benign\n\\item benign\n\\item benign\n\\item benign\n\\item benign\n\\item benign\n\\item malignant\n\\item benign\n\\item benign\n\\item benign\n\\item malignant\n\\item benign\n\\item malignant\n\\item benign\n\\item benign\n\\item benign\n\\item benign\n\\item benign\n\\item benign\n\\item benign\n\\item benign\n\\item benign\n\\item malignant\n\\item benign\n\\item malignant\n\\item benign\n\\item malignant\n\\item benign\n\\item benign\n\\item benign\n\\item benign\n\\item benign\n\\item benign\n\\item benign\n\\item benign\n\\item malignant\n\\item benign\n\\item benign\n\\item malignant\n\\item benign\n\\item malignant\n\\item malignant\n\\item malignant\n\\item benign\n\\item benign\n\\item benign\n\\item benign\n\\item benign\n\\item benign\n\\item benign\n\\item benign\n\\item benign\n\\item benign\n\\item benign\n\\item benign\n\\item malignant\n\\item malignant\n\\item malignant\n\\item benign\n\\item benign\n\\item benign\n\\item benign\n\\item malignant\n\\item benign\n\\item benign\n\\item malignant\n\\item benign\n\\item benign\n\\end{enumerate*}\n\n\\emph{Levels}: \\begin{enumerate*}\n\\item 'benign'\n\\item 'malignant'\n\\end{enumerate*}\n",
            "text/plain": [
              "  [1] benign    malignant benign    benign    malignant benign    benign   \n",
              "  [8] malignant benign    malignant benign    malignant malignant benign   \n",
              " [15] benign    malignant benign    malignant benign    malignant benign   \n",
              " [22] benign    benign    malignant malignant benign    benign    benign   \n",
              " [29] benign    benign    malignant malignant malignant benign    benign   \n",
              " [36] malignant benign    benign    benign    benign    malignant benign   \n",
              " [43] benign    benign    malignant malignant benign    benign    malignant\n",
              " [50] malignant benign    benign    benign    malignant malignant malignant\n",
              " [57] benign    malignant malignant malignant malignant malignant benign   \n",
              " [64] malignant malignant benign    benign    malignant malignant malignant\n",
              " [71] malignant benign    benign    benign    malignant benign    benign   \n",
              " [78] malignant malignant benign    malignant malignant benign    benign   \n",
              " [85] malignant malignant benign    benign    benign    malignant benign   \n",
              " [92] benign    malignant benign    benign    benign    benign    benign   \n",
              " [99] malignant malignant benign    benign    malignant benign    benign   \n",
              "[106] benign    benign    benign    benign    benign    benign    benign   \n",
              "[113] malignant malignant benign    benign    malignant benign    benign   \n",
              "[120] malignant benign    benign    malignant benign    benign    benign   \n",
              "[127] benign    benign    malignant malignant benign    malignant benign   \n",
              "[134] benign    benign    benign    malignant benign    benign    benign   \n",
              "[141] benign    benign    benign    malignant benign    benign    benign   \n",
              "[148] malignant benign    malignant benign    benign    benign    benign   \n",
              "[155] benign    benign    benign    benign    benign    malignant benign   \n",
              "[162] malignant benign    malignant benign    benign    benign    benign   \n",
              "[169] benign    benign    benign    benign    malignant benign    benign   \n",
              "[176] malignant benign    malignant malignant malignant benign    benign   \n",
              "[183] benign    benign    benign    benign    benign    benign    benign   \n",
              "[190] benign    benign    benign    malignant malignant malignant benign   \n",
              "[197] benign    benign    benign    malignant benign    benign    malignant\n",
              "[204] benign    benign   \n",
              "Levels: benign malignant"
            ]
          },
          "metadata": {}
        }
      ]
    },
    {
      "cell_type": "code",
      "source": [
        "confusion_matrix <- table(predictions, test_data$diagnosis)\n",
        "accuracy <- sum(diag(confusion_matrix)) / sum(confusion_matrix)\n",
        "print(paste(\"Accuracy:\", accuracy))"
      ],
      "metadata": {
        "colab": {
          "base_uri": "https://localhost:8080/"
        },
        "id": "lYc95kIz3QIG",
        "outputId": "944a82e4-826e-4c92-b6a4-c10b7c2aca0f"
      },
      "execution_count": 24,
      "outputs": [
        {
          "output_type": "stream",
          "name": "stdout",
          "text": [
            "[1] \"Accuracy: 0.946341463414634\"\n"
          ]
        }
      ]
    },
    {
      "cell_type": "code",
      "source": [
        "custom_data <- data.frame(\n",
        "  Cl.thickness = c(5.1, 4.9,0.4444444),\n",
        "  Cell.size = c(3.5, 3.0,0),\n",
        "  Cell.shape = c(1.4, 1.4,0),\n",
        "  Marg.adhesion = c(0.2, 0.2,0),\n",
        "  Epith.c.size = c(0.5,0.2,0.111111),\n",
        "  Bare.nuclei = c(0.3, 0.4,0),\n",
        "  Bl.cromatin = c(0,0,0.22222),\n",
        "  Normal.nucleoli= c(0.9,0.5,0.000),\n",
        "  Mitoses = c(0.375, 0.4,0.00)\n",
        ")"
      ],
      "metadata": {
        "id": "xrE6fit_4ZOM"
      },
      "execution_count": 36,
      "outputs": []
    },
    {
      "cell_type": "code",
      "source": [
        "# Testing on custom data\n",
        "sample_prediction <- predict(dt_model, custom_data, type=\"class\")"
      ],
      "metadata": {
        "id": "CvwEwWMK3VwH"
      },
      "execution_count": 37,
      "outputs": []
    },
    {
      "cell_type": "code",
      "source": [
        "sample_prediction"
      ],
      "metadata": {
        "colab": {
          "base_uri": "https://localhost:8080/",
          "height": 52
        },
        "id": "J9q1Gp_O3q6i",
        "outputId": "908f1191-857f-440c-beaa-ca4c576e4815"
      },
      "execution_count": 38,
      "outputs": [
        {
          "output_type": "display_data",
          "data": {
            "text/html": [
              "<style>\n",
              ".list-inline {list-style: none; margin:0; padding: 0}\n",
              ".list-inline>li {display: inline-block}\n",
              ".list-inline>li:not(:last-child)::after {content: \"\\00b7\"; padding: 0 .5ex}\n",
              "</style>\n",
              "<ol class=list-inline><li>malignant</li><li>malignant</li><li>benign</li></ol>\n",
              "\n",
              "<details>\n",
              "\t<summary style=display:list-item;cursor:pointer>\n",
              "\t\t<strong>Levels</strong>:\n",
              "\t</summary>\n",
              "\t<style>\n",
              "\t.list-inline {list-style: none; margin:0; padding: 0}\n",
              "\t.list-inline>li {display: inline-block}\n",
              "\t.list-inline>li:not(:last-child)::after {content: \"\\00b7\"; padding: 0 .5ex}\n",
              "\t</style>\n",
              "\t<ol class=list-inline><li>'benign'</li><li>'malignant'</li></ol>\n",
              "</details>"
            ],
            "text/markdown": "1. malignant\n2. malignant\n3. benign\n\n\n\n**Levels**: 1. 'benign'\n2. 'malignant'\n\n\n",
            "text/latex": "\\begin{enumerate*}\n\\item malignant\n\\item malignant\n\\item benign\n\\end{enumerate*}\n\n\\emph{Levels}: \\begin{enumerate*}\n\\item 'benign'\n\\item 'malignant'\n\\end{enumerate*}\n",
            "text/plain": [
              "[1] malignant malignant benign   \n",
              "Levels: benign malignant"
            ]
          },
          "metadata": {}
        }
      ]
    }
  ]
}